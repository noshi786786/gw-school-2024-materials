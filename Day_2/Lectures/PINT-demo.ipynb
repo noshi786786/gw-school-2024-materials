{
 "cells": [
  {
   "cell_type": "markdown",
   "id": "2f49e006-4bca-4a00-909c-56130a7d8392",
   "metadata": {},
   "source": [
    "# PINT Demo\n",
    "IPTA Student Week 2024"
   ]
  },
  {
   "cell_type": "markdown",
   "id": "5467aa07-bb21-4324-a5d8-63544e53a8e5",
   "metadata": {},
   "source": [
    "## Reading par and tim files\n",
    "The first thing to do is to read some data files. We'll use an example dataset distributed with PINT."
   ]
  },
  {
   "cell_type": "code",
   "execution_count": 5,
   "id": "fcfe8071-a9d7-4677-9b18-7d9d2ef69383",
   "metadata": {},
   "outputs": [],
   "source": [
    "from pint.models import get_model_and_toas\n",
    "\n",
    "from pint.config import examplefi"
   ]
  },
  {
   "cell_type": "code",
   "execution_count": 6,
   "id": "a9870aa1-a292-45bd-be7a-2c47245bc01d",
   "metadata": {},
   "outputs": [
    {
     "data": {
      "text/plain": [
       "2"
      ]
     },
     "execution_count": 6,
     "metadata": {},
     "output_type": "execute_result"
    }
   ],
   "source": [
    "from pint.logging import setup as setup_log\n",
    "\n",
    "# This will turn off debug messages. They can be annoying.\n",
    "setup_log(level=\"WARNING\")"
   ]
  },
  {
   "cell_type": "code",
   "execution_count": 7,
   "id": "124bc80b",
   "metadata": {},
   "outputs": [
    {
     "name": "stdout",
     "output_type": "stream",
     "text": [
      "/home/abhimanyu/Work/PINT/src/pint/data/examples/\n"
     ]
    }
   ],
   "source": [
    "print(examplefile(\"\"))"
   ]
  },
  {
   "cell_type": "code",
   "execution_count": 8,
   "id": "99d93954-8bfd-42fc-8868-ab7b132a8933",
   "metadata": {},
   "outputs": [],
   "source": [
    "# We use the examplefile function to get the example data file paths.\n",
    "model, toas = get_model_and_toas(\n",
    "    examplefile(\"NGC6440E.par\"), \n",
    "    examplefile(\"NGC6440E.tim\")\n",
    ")"
   ]
  },
  {
   "cell_type": "code",
   "execution_count": 9,
   "id": "c49bda54-2912-4958-8638-07550785ea2b",
   "metadata": {},
   "outputs": [
    {
     "name": "stdout",
     "output_type": "stream",
     "text": [
      "Help on function get_model_and_toas in module pint.models.model_builder:\n",
      "\n",
      "get_model_and_toas(parfile: Union[str, pathlib.Path, IO], timfile: Union[str, pathlib.Path, IO], ephem: str = None, include_bipm: bool = None, bipm_version: str = None, planets: bool = None, usepickle: bool = False, tdb_method: str = 'default', include_pn: bool = True, picklefilename: str = None, allow_name_mixing: bool = False, limits: str = 'warn', allow_tcb: bool = False, allow_T2: bool = False, force_binary_model: str = None, add_tzr_to_model: bool = True, **kwargs) -> Tuple[pint.models.timing_model.TimingModel, pint.toa.TOAs]\n",
      "    Load a timing model and a related TOAs, using model commands as needed\n",
      "    \n",
      "    Parameters\n",
      "    ----------\n",
      "    parfile : str\n",
      "        The parfile name, or a file-like object to read the parfile contents from\n",
      "    timfile : str\n",
      "        The timfile name, or a file-like object to read the timfile contents from\n",
      "    ephem : str, optional\n",
      "        If not None (default), this ephemeris will be used to create the TOAs object.\n",
      "        Default is to use the EPHEM parameter from the timing model.\n",
      "    include_bipm : bool or None\n",
      "        Whether to apply the BIPM clock correction. Defaults to True.\n",
      "    bipm_version : string or None\n",
      "        Which version of the BIPM tables to use for the clock correction.\n",
      "        The format must be 'BIPMXXXX' where XXXX is a year.\n",
      "    planets : bool or None\n",
      "        Whether to apply Shapiro delays based on planet positions. Note that a\n",
      "        long-standing TEMPO2 bug in this feature went unnoticed for years.\n",
      "        Defaults to False.\n",
      "    usepickle : bool\n",
      "        Whether to try to use pickle-based caching of loaded clock-corrected TOAs objects.\n",
      "    tdb_method : str\n",
      "        Which method to use for the clock correction to TDB. See\n",
      "        :func:`pint.observatory.Observatory.get_TDBs` for details.\n",
      "    include_pn : bool, optional\n",
      "        Whether or not to read in the 'pn' column (``pulse_number``)\n",
      "    picklefilename : str or None\n",
      "        Filename to use for caching loaded file. Defaults to adding ``.pickle.gz`` to the\n",
      "        filename of the timfile, if there is one and only one. If no filename is available,\n",
      "        or multiple filenames are provided, a specific filename must be provided.\n",
      "    allow_name_mixing : bool, optional\n",
      "        Flag for allowing the input to have mixing aliases names for the\n",
      "        same parameter. For example, if this flag is true, one can have\n",
      "        T2EFAC and EFAC, both of them maps to PINT parameter EFAC, present\n",
      "        in the parfile at the same time.\n",
      "    limits : \"warn\" or \"error\"\n",
      "        What to do when encountering TOAs for which clock corrections are not available.\n",
      "    allow_tcb : True, False, or \"raw\", optional\n",
      "        Whether to read TCB par files. Default is False, and will throw an\n",
      "        error upon encountering TCB par files. If True, the par file will be\n",
      "        converted to TDB upon read. If \"raw\", an unconverted malformed TCB\n",
      "        TimingModel object will be returned.\n",
      "    allow_T2 : bool, optional\n",
      "        Whether to convert a T2 binary model to an appropriate underlying\n",
      "        binary model. Default is False, and will throw an error upon\n",
      "        encountering the T2 binary model. If True, the binary model will be\n",
      "        converted to the most appropriate PINT-compatible binary model.\n",
      "    force_binary_model : str, optional\n",
      "        When set to some binary model, like force_binary_model=\"DD\", this\n",
      "        will override the binary model set in the parfile. Defaults to None\n",
      "    add_tzr_to_model : bool, optional\n",
      "        Create a TZR TOA in the timing model using the created TOAs object. Default is\n",
      "        True.\n",
      "    kwargs : dict\n",
      "        Any additional parameter/value pairs that will add to or override those in the parfile.\n",
      "    \n",
      "    Returns\n",
      "    -------\n",
      "    A tuple with (model instance, TOAs instance)\n",
      "\n"
     ]
    }
   ],
   "source": [
    "# This function has a lot of options.\n",
    "# Useful options for IPTA:\n",
    "#    allow_tcb=True   ---  Read and convert TCB par files to TDB.\n",
    "#    allow_T2=True    ---  Read and infer the binary model when 'BINARY T2' is found.\n",
    "help(get_model_and_toas)"
   ]
  },
  {
   "cell_type": "markdown",
   "id": "2bcc45b3-a6af-4988-92cf-2cff622ca217",
   "metadata": {},
   "source": [
    "## What is in a model?"
   ]
  },
  {
   "cell_type": "code",
   "execution_count": 10,
   "id": "9fb57535-6ac0-47b4-bee8-168ff5689e4b",
   "metadata": {},
   "outputs": [
    {
     "name": "stdout",
     "output_type": "stream",
     "text": [
      "# Created: 2024-06-18T13:39:17.023531\n",
      "# PINT_version: 1.0+304.g1f2c5962\n",
      "# User: Abhimanyu Susobhanan (abhimanyu)\n",
      "# Host: abhimanyu-HP-Envy-x360-2-in-1-Laptop-15-fh0xxx\n",
      "# OS: Linux-6.5.0-35-generic-x86_64-with-glibc2.35\n",
      "# Python: 3.9.19 (main, May  6 2024, 19:43:03) \n",
      "# [GCC 11.2.0]\n",
      "# Format: pint\n",
      "PSR                            1748-2021E\n",
      "EPHEM                               DE421\n",
      "CLK                          TT(BIPM2019)\n",
      "UNITS                                 TDB\n",
      "TIMEEPH                              FB90\n",
      "T2CMETHOD                        IAU2000B\n",
      "DILATEFREQ                              N\n",
      "DMDATA                                  N\n",
      "NTOA                                    0\n",
      "RAJ                     17:48:52.75000000 1 0.04999999999999999584\n",
      "DECJ                   -20:21:29.00000000 1 0.40000000000000002220\n",
      "PMRA                                  0.0\n",
      "PMDEC                                 0.0\n",
      "PX                                    0.0\n",
      "POSEPOCH           53750.0000000000000000\n",
      "F0                           61.485476554 1 5e-10\n",
      "F1                             -1.181e-15 1 1e-18\n",
      "PEPOCH             53750.0000000000000000\n",
      "CORRECT_TROPOSPHERE                         N\n",
      "PLANET_SHAPIRO                          N\n",
      "SOLARN0                               0.0\n",
      "SWM                                     0\n",
      "DM                                  223.9 1 0.3\n",
      "TZRMJD             53801.3860512007484954\n",
      "TZRSITE                                 1\n",
      "TZRFRQ                           1949.609\n",
      "\n"
     ]
    }
   ],
   "source": [
    "# We get a par file representation if we print the model object.\n",
    "# The free parameters are marked with \"1\" after their value.\n",
    "# The output also contains some extra metadata which is useful for troubleshooting.\n",
    "print(model)"
   ]
  },
  {
   "cell_type": "code",
   "execution_count": 11,
   "id": "0116c699-575d-4de0-9995-663a69231c52",
   "metadata": {},
   "outputs": [
    {
     "name": "stdout",
     "output_type": "stream",
     "text": [
      "-1.181e-15 Hz / s\n"
     ]
    }
   ],
   "source": [
    "# The timing model parameters can be accessed like so.\n",
    "# model.<PARAM>.quantity is usually an astropy.units.Quantity object.\n",
    "print(model.F1.quantity)"
   ]
  },
  {
   "cell_type": "code",
   "execution_count": 12,
   "id": "f71ff1e6-154d-4db8-b389-229124f2e962",
   "metadata": {},
   "outputs": [
    {
     "name": "stdout",
     "output_type": "stream",
     "text": [
      "1748-2021E <class 'str'>\n",
      "53750.0000000000000000 <class 'astropy.time.core.Time'>\n",
      "False <class 'bool'>\n"
     ]
    }
   ],
   "source": [
    "# Some parameters have other types of values, like strings, datetimes, booleans, etc.\n",
    "print(model.PSR.quantity, type(model.PSR.quantity))\n",
    "print(model.PEPOCH.quantity, type(model.PEPOCH.quantity))\n",
    "print(model.PLANET_SHAPIRO.quantity, type(model.PLANET_SHAPIRO.quantity))"
   ]
  },
  {
   "cell_type": "code",
   "execution_count": 13,
   "id": "9a1625f2-5454-4ad7-8b20-c768c358a566",
   "metadata": {},
   "outputs": [
    {
     "name": "stdout",
     "output_type": "stream",
     "text": [
      "['PSR', 'TRACK', 'EPHEM', 'CLOCK', 'UNITS', 'START', 'FINISH', 'RM', 'INFO', 'TIMEEPH', 'T2CMETHOD', 'BINARY', 'DILATEFREQ', 'DMDATA', 'NTOA', 'CHI2', 'CHI2R', 'TRES', 'DMRES', 'POSEPOCH', 'PX', 'RAJ', 'DECJ', 'PMRA', 'PMDEC', 'F0', 'PEPOCH', 'F1', 'CORRECT_TROPOSPHERE', 'PLANET_SHAPIRO', 'NE_SW', 'SWP', 'SWM', 'DM', 'DM1', 'DMEPOCH', 'TZRMJD', 'TZRSITE', 'TZRFRQ']\n"
     ]
    }
   ],
   "source": [
    "# Getting a list of all parameters\n",
    "print(model.params)"
   ]
  },
  {
   "cell_type": "code",
   "execution_count": 14,
   "id": "7fe0b2a1-8dbf-4ee0-9cff-85ae3125bfe1",
   "metadata": {},
   "outputs": [
    {
     "name": "stdout",
     "output_type": "stream",
     "text": [
      "['RAJ', 'DECJ', 'F0', 'F1', 'DM']\n"
     ]
    }
   ],
   "source": [
    "# Getting a list of free parameters\n",
    "print(model.free_params)"
   ]
  },
  {
   "cell_type": "code",
   "execution_count": 56,
   "id": "b4650ccd-33fb-484c-baa3-cc0724b13be4",
   "metadata": {},
   "outputs": [
    {
     "name": "stdout",
     "output_type": "stream",
     "text": [
      "{'AstrometryEquatorial': AstrometryEquatorial(\n",
      "    MJDParameter(   POSEPOCH            53750.0000000000000000 (d) frozen=True),\n",
      "    floatParameter( PX                  0.0               (mas) frozen=True),\n",
      "    AngleParameter( RAJ                 17:48:52.75000000 (hourangle) +/- 0h00m00.05s frozen=False),\n",
      "    AngleParameter( DECJ                -20:21:29.00000000 (deg) +/- 0d00m00.4s frozen=False),\n",
      "    floatParameter( PMRA                0.0               (mas / yr) frozen=True),\n",
      "    floatParameter( PMDEC               0.0               (mas / yr) frozen=True)), 'TroposphereDelay': TroposphereDelay(\n",
      "    boolParameter(  CORRECT_TROPOSPHERE N                 frozen=True)), 'SolarSystemShapiro': SolarSystemShapiro(\n",
      "    boolParameter(  PLANET_SHAPIRO      N                 frozen=True)), 'SolarWindDispersion': SolarWindDispersion(\n",
      "    floatParameter( NE_SW               0.0               (1 / cm3) frozen=True),\n",
      "    floatParameter( SWP                 2.0               () frozen=True),\n",
      "    intParameter(   SWM                 0                 frozen=True)), 'DispersionDM': DispersionDM(\n",
      "    floatParameter( DM                  223.9             (pc / cm3) +/- 0.3 pc / cm3 frozen=False),\n",
      "    floatParameter( DM1                 UNSET,\n",
      "    MJDParameter(   DMEPOCH             UNSET), 'AbsPhase': AbsPhase(\n",
      "    MJDParameter(   TZRMJD              53801.3860512007484954 (d) frozen=True),\n",
      "    strParameter(   TZRSITE             1                 frozen=True),\n",
      "    floatParameter( TZRFRQ              1949.609          (MHz) frozen=True)), 'Spindown': Spindown(\n",
      "    floatParameter( F0                  61.485476554      (Hz) +/- 5e-10 Hz frozen=False),\n",
      "    MJDParameter(   PEPOCH              53750.0000000000000000 (d) frozen=True),\n",
      "    floatParameter( F1                  -1.181e-15        (Hz / s) +/- 1e-18 Hz / s frozen=False))}\n"
     ]
    }
   ],
   "source": [
    "# A model is made of components. These represent the different processes that\n",
    "# affect the measured TOA. Each parameter is associated with a model component.\n",
    "print(model.components)"
   ]
  },
  {
   "cell_type": "markdown",
   "id": "306cce91-7beb-4700-b1bd-5db707b3e1fa",
   "metadata": {},
   "source": [
    "## What's in TOAs?"
   ]
  },
  {
   "cell_type": "code",
   "execution_count": 15,
   "id": "6ad9c4d1-2765-4f2c-b95b-03b7e8118377",
   "metadata": {},
   "outputs": [
    {
     "name": "stdout",
     "output_type": "stream",
     "text": [
      "Number of TOAs:  62\n",
      "Number of commands:  0\n",
      "Number of observatories: 1 ['gbt']\n",
      "MJD span:  53478.286 to 54187.587\n",
      "Date span: 2005-04-18 06:51:39.290648106 to 2007-03-28 14:05:44.808308037\n",
      "gbt TOAs (62):\n",
      "  Min freq:      1549.609 MHz\n",
      "  Max freq:      2212.109 MHz\n",
      "  Min error:     13.2 us\n",
      "  Max error:     118 us\n",
      "  Median error:  22.1 us\n",
      "\n"
     ]
    }
   ],
   "source": [
    "# We can get a summary of the TOAs by calling the print_summary function.\n",
    "toas.print_summary()"
   ]
  },
  {
   "cell_type": "code",
   "execution_count": 16,
   "id": "c0d0e235-a021-4a4c-8ad4-dd3b5c8fc664",
   "metadata": {},
   "outputs": [
    {
     "name": "stdout",
     "output_type": "stream",
     "text": [
      "index        mjd        ...                obs_sun_pos                \n",
      "                        ...                     km                    \n",
      "----- ----------------- ... ------------------------------------------\n",
      "    0 53478.28587141954 ...    132300219.00569908 .. 28301415.35919997\n",
      "    1 53483.27670518884 ...    125950526.54719904 .. 32709720.94995396\n",
      "    2 53489.46838978825 ...    116811489.08005148 .. 37847344.14576268\n",
      "    3 53679.87564592083 ...  -107617035.22788034 .. -40589908.43799952\n",
      "    4 53679.87564536537 ...  -107617036.21817447 .. -40589908.02744341\n",
      "    5  53679.8756449276 ...  -107617036.99862644 .. -40589907.70388365\n",
      "    6 53679.87564457819 ... -107617037.62156363 .. -40589907.445626356\n",
      "    7 53679.87564513386 ...  -107617036.63090621 .. -40589907.85633311\n",
      "    8 53681.70075099914 ...  -104248039.63196312 .. -41917934.22431718\n",
      "    9 53681.95454490266 ...   -103778953.6981405 .. -42099238.00618152\n",
      "  ...               ... ...                                        ...\n",
      "   52 54187.33158349338 ...    148137668.80068383 .. 7406553.861375486\n",
      "   53 54187.58732417023 ...    148057390.62404054 .. 7667155.828441804\n",
      "   54 54099.70978574142 ...   22419253.281314243 .. -57831702.95571246\n",
      "   55 54099.70978542604 ...   22419252.476046883 .. -57831703.00623445\n",
      "   56 54099.70978514842 ...   22419251.767181378 .. -57831703.05070824\n",
      "   57 54099.70978490359 ...   22419251.14204723 .. -57831703.089928776\n",
      "   58  54099.7097846853 ...    22419250.58466733 .. -57831703.12489847\n",
      "   59 54099.70978449185 ...    22419250.09073161 .. -57831703.15588769\n",
      "   60 54099.70978431551 ...    22419249.64047305 .. -57831703.18413664\n",
      "   61 54099.70978415968 ...   22419249.242567673 .. -57831703.20910099\n",
      "Length = 62 rows\n"
     ]
    }
   ],
   "source": [
    "# TOAs are internally stored as an astropy table.\n",
    "print(toas.table)\n",
    "\n",
    "# You'll see multiple representations of the TOA values - mjd (astropy Time objects), \n",
    "# mjd_float (float values), and tdbld (long double values).\n",
    "# These are clock-corrected TOAs in the TDB timescale.\n",
    "\n",
    "# Other columns to note are error (TOA measurement uncertainties), freq (Observing frequencies),\n",
    "# etc.\n",
    "\n",
    "# Solar system ephemerides are also stored in this table (e.g., the obs_sun_pos column)"
   ]
  },
  {
   "cell_type": "code",
   "execution_count": 17,
   "id": "a0c2b9f9",
   "metadata": {},
   "outputs": [
    {
     "data": {
      "text/plain": [
       "['index',\n",
       " 'mjd',\n",
       " 'mjd_float',\n",
       " 'error',\n",
       " 'freq',\n",
       " 'obs',\n",
       " 'flags',\n",
       " 'delta_pulse_number',\n",
       " 'tdb',\n",
       " 'tdbld',\n",
       " 'ssb_obs_pos',\n",
       " 'ssb_obs_vel',\n",
       " 'obs_sun_pos']"
      ]
     },
     "execution_count": 17,
     "metadata": {},
     "output_type": "execute_result"
    }
   ],
   "source": [
    "toas.table.colnames"
   ]
  },
  {
   "cell_type": "markdown",
   "id": "3a2e441e-1c53-4588-9bc2-62968bf25ee4",
   "metadata": {},
   "source": [
    "## Plotting residuals"
   ]
  },
  {
   "cell_type": "code",
   "execution_count": 18,
   "id": "1705d035-7c62-479d-b575-5d1039b9e483",
   "metadata": {},
   "outputs": [
    {
     "data": {
      "text/plain": [
       "<ErrorbarContainer object of 3 artists>"
      ]
     },
     "execution_count": 18,
     "metadata": {},
     "output_type": "execute_result"
    },
    {
     "data": {
      "image/png": "[encoded data removed]",
      "text/plain": [
       "<Figure size 640x480 with 1 Axes>"
      ]
     },
     "metadata": {},
     "output_type": "display_data"
    }
   ],
   "source": [
    "# Now let us see what the residuals look like.\n",
    "from pint.residuals import Residuals\n",
    "from matplotlib import pyplot as plt\n",
    "\n",
    "# The Residuals class is used to evaluate timing residuals, chi2, etc.\n",
    "res = Residuals(toas, model)\n",
    "\n",
    "plt.errorbar(toas.get_mjds(), res.calc_time_resids(), res.get_data_error(), ls=\"\", marker=\"+\")"
   ]
  },
  {
   "cell_type": "code",
   "execution_count": 19,
   "id": "2a94a81c-ddfa-4c13-8d53-e9079618c7b3",
   "metadata": {},
   "outputs": [
    {
     "name": "stdout",
     "output_type": "stream",
     "text": [
      "2820.0106634066078637\n"
     ]
    }
   ],
   "source": [
    "# Well, that's not a good fit.\n",
    "print(res.chi2_reduced)"
   ]
  },
  {
   "cell_type": "markdown",
   "id": "347f994b-1dfc-4953-a0fe-96d8976660d0",
   "metadata": {},
   "source": [
    "## Fitting the timing model"
   ]
  },
  {
   "cell_type": "code",
   "execution_count": 20,
   "id": "8cefe980-ec7c-4ca2-8ba6-1295a85cd418",
   "metadata": {},
   "outputs": [],
   "source": [
    "from pint.fitter import Fitter"
   ]
  },
  {
   "cell_type": "code",
   "execution_count": 22,
   "id": "27ded2d6-ac19-4d5c-8580-e54bb706bf43",
   "metadata": {},
   "outputs": [
    {
     "name": "stdout",
     "output_type": "stream",
     "text": [
      "<pint.fitter.DownhillWLSFitter object at 0x7245f7a5cb20>\n"
     ]
    }
   ],
   "source": [
    "# Select the best fitter for the given dataset.\n",
    "ftr = Fitter.auto(toas, model)\n",
    "print(ftr)\n",
    "\n",
    "# DownhillWLSFitter is used for narrowband TOAs when the model only has \n",
    "# white noise."
   ]
  },
  {
   "cell_type": "code",
   "execution_count": 23,
   "id": "3643c0cf-4775-4902-8a14-d91a1ba77b39",
   "metadata": {},
   "outputs": [],
   "source": [
    "# Let's do the fit.\n",
    "ftr.fit_toas(maxiter=5)"
   ]
  },
  {
   "cell_type": "code",
   "execution_count": 64,
   "id": "16cd33ff-4834-4a6e-89b9-bf22c4827991",
   "metadata": {},
   "outputs": [
    {
     "data": {
      "text/plain": [
       "<ErrorbarContainer object of 3 artists>"
      ]
     },
     "execution_count": 64,
     "metadata": {},
     "output_type": "execute_result"
    },
    {
     "data": {
      "image/png": "[encoded data removed]",
      "text/plain": [
       "<Figure size 640x480 with 1 Axes>"
      ]
     },
     "metadata": {},
     "output_type": "display_data"
    }
   ],
   "source": [
    "# Now let's look at the post-fit residuals.\n",
    "plt.errorbar(toas.get_mjds(), ftr.resids.calc_time_resids(), ftr.resids.get_data_error(), ls=\"\", marker=\"+\")"
   ]
  },
  {
   "cell_type": "code",
   "execution_count": 24,
   "id": "eea7e759-cae4-4fb4-901c-5af8b79d7647",
   "metadata": {},
   "outputs": [
    {
     "data": {
      "text/plain": [
       "Text(0, 0.5, 'Residuals (s)')"
      ]
     },
     "execution_count": 24,
     "metadata": {},
     "output_type": "execute_result"
    },
    {
     "data": {
      "image/png": "[encoded data removed]",
      "text/plain": [
       "<Figure size 640x480 with 1 Axes>"
      ]
     },
     "metadata": {},
     "output_type": "display_data"
    }
   ],
   "source": [
    "# We can plot against frequency to see if the DM has been modeled correctly.\n",
    "plt.errorbar(toas.get_freqs(), ftr.resids.calc_time_resids(), ftr.resids.get_data_error(), ls=\"\", marker=\"+\")\n",
    "plt.xlabel(\"Frequency (MHz)\")\n",
    "plt.ylabel(\"Residuals (s)\")"
   ]
  },
  {
   "cell_type": "code",
   "execution_count": 25,
   "id": "1ad6e9e5-fc39-4cdf-85e1-6b0edc1ed289",
   "metadata": {},
   "outputs": [
    {
     "name": "stdout",
     "output_type": "stream",
     "text": [
      "1.0638341384814312405\n"
     ]
    }
   ],
   "source": [
    "# That's much better.\n",
    "print(ftr.resids.chi2_reduced)"
   ]
  },
  {
   "cell_type": "code",
   "execution_count": 26,
   "id": "78791e7e-11bd-468f-9fe6-4d8fc27ae0a0",
   "metadata": {},
   "outputs": [
    {
     "name": "stdout",
     "output_type": "stream",
     "text": [
      "# Created: 2024-06-18T13:53:55.970405\n",
      "# PINT_version: 1.0+304.g1f2c5962\n",
      "# User: Abhimanyu Susobhanan (abhimanyu)\n",
      "# Host: abhimanyu-HP-Envy-x360-2-in-1-Laptop-15-fh0xxx\n",
      "# OS: Linux-6.5.0-35-generic-x86_64-with-glibc2.35\n",
      "# Python: 3.9.19 (main, May  6 2024, 19:43:03) \n",
      "# [GCC 11.2.0]\n",
      "# Format: pint\n",
      "PSR                            1748-2021E\n",
      "EPHEM                               DE421\n",
      "CLK                          TT(BIPM2019)\n",
      "UNITS                                 TDB\n",
      "START              53478.2858714195382639\n",
      "FINISH             54187.5873241702319097\n",
      "TIMEEPH                              FB90\n",
      "T2CMETHOD                        IAU2000B\n",
      "DILATEFREQ                              N\n",
      "DMDATA                                  N\n",
      "NTOA                                   62\n",
      "CHI2                    59.57471175496015\n",
      "CHI2R                  1.0638341384814312\n",
      "TRES                21.182108436303946443\n",
      "RAJ                     17:48:52.80034690 1 0.00013524663578313304\n",
      "DECJ                   -20:21:29.38334051 1 0.03285268549435133023\n",
      "PMRA                                  0.0\n",
      "PMDEC                                 0.0\n",
      "PX                                    0.0\n",
      "POSEPOCH           53750.0000000000000000\n",
      "F0                   61.48547655437249947 1 1.8086084389702723126e-11\n",
      "F1              -1.1813316933329983542e-15 1 1.4418540398803395272e-18\n",
      "PEPOCH             53750.0000000000000000\n",
      "CORRECT_TROPOSPHERE                         N\n",
      "PLANET_SHAPIRO                          N\n",
      "SOLARN0                               0.0\n",
      "SWM                                     0\n",
      "DM                   224.1137963928532875 1 0.034938980510629935594\n",
      "TZRMJD             53801.3860512007484954\n",
      "TZRSITE                                 1\n",
      "TZRFRQ                           1949.609\n",
      "\n"
     ]
    }
   ],
   "source": [
    "# Let us view the post-fit timing model\n",
    "print(ftr.model)"
   ]
  },
  {
   "cell_type": "code",
   "execution_count": 27,
   "id": "bb1baed8-7f3a-492c-9dd1-ba52d31fa839",
   "metadata": {},
   "outputs": [
    {
     "name": "stderr",
     "output_type": "stream",
     "text": [
      "\u001b[33m\u001b[1mWARNING \u001b[0m (pint.models.timing_model      ): \u001b[33m\u001b[1mParameter RAJ has changed significantly (    372.26 sigma2)\u001b[0m\n",
      "\u001b[33m\u001b[1mWARNING \u001b[0m (pint.models.timing_model      ): \u001b[33m\u001b[1mParameter DECJ has changed significantly (    -11.67 sigma2)\u001b[0m\n",
      "\u001b[33m\u001b[1mWARNING \u001b[0m (pint.models.timing_model      ): \u001b[33m\u001b[1mParameter F0 has changed significantly (     20.60 sigma2)\u001b[0m\n",
      "\u001b[33m\u001b[1mWARNING \u001b[0m (pint.models.timing_model      ): \u001b[33m\u001b[1mUncertainty on parameter F1 has increased (unc2/unc1 = 1.44)\u001b[0m\n",
      "\u001b[33m\u001b[1mWARNING \u001b[0m (pint.models.timing_model      ): \u001b[33m\u001b[1mParameter DM has changed significantly (      6.12 sigma2)\u001b[0m\n"
     ]
    },
    {
     "name": "stdout",
     "output_type": "stream",
     "text": [
      "PARAMETER                               NGC6440E.par                      NGC6440E.par   Diff_Sigma1   Diff_Sigma2\n",
      "-------------------     ----------------------------   -------------------------------   -----------   -----------\n",
      "PSR                                       1748-2021E                        1748-2021E                            \n",
      "EPHEM                                          DE421                             DE421                            \n",
      "CLOCK                                   TT(BIPM2019)                      TT(BIPM2019)                            \n",
      "UNITS                                            TDB                               TDB                            \n",
      "TIMEEPH                                         FB90                              FB90                            \n",
      "T2CMETHOD                                   IAU2000B                          IAU2000B                            \n",
      "DILATEFREQ                                     False                             False                            \n",
      "DMDATA                                         False                             False                            \n",
      "NTOA                                               0                                62                            \n",
      "POSEPOCH                                     53750.0                           53750.0                            \n",
      "PX                                               0.0                               0.0                            \n",
      "\u001b[0m\u001b[49;31mRAJ                         17h48m52.75s +/-    0.05     17h48m52.8003469s +/- 0.00014          1.01        372.26 !\u001b[0m\n",
      "\u001b[0m\u001b[49;31mDECJ                          -20d21m29s +/-     0.4   -20d21m29.38334051s +/-   0.033         -0.96        -11.67 !\u001b[0m\n",
      "PMRA                                             0.0                               0.0                            \n",
      "PMDEC                                            0.0                               0.0                            \n",
      "\u001b[0m\u001b[49;31mF0                                  61.4854765540(5)               61.485476554372(18)          0.74         20.60 !\u001b[0m\n",
      "PEPOCH                                       53750.0                           53750.0                            \n",
      "\u001b[0m\u001b[42;39mF1                                 -1.1810(10)×10⁻¹⁵                 -1.1813(14)×10⁻¹⁵         -0.33         -0.23 *\u001b[0m\n",
      "CORRECT_TROPOSPHERE                            False                             False                            \n",
      "PLANET_SHAPIRO                                 False                             False                            \n",
      "NE_SW                                            0.0                               0.0                            \n",
      "SWP                                              2.0                               2.0                            \n",
      "SWM                                                0                                 0                            \n",
      "\u001b[0m\u001b[49;31mDM                                        223.90(30)                       224.114(35)          0.71          6.12 !\u001b[0m\n",
      "TZRMJD                         53801.386051200748497             53801.386051200748497                            \n",
      "TZRSITE                                            1                                 1                            \n",
      "TZRFRQ                                      1949.609                          1949.609                            \n",
      "START                                        Missing                 53478.28587141954                            \n",
      "FINISH                                       Missing                 54187.58732417023                            \n",
      "CHI2                                         Missing                 59.57471175496015                            \n",
      "CHI2R                                        Missing                1.0638341384814312                            \n",
      "TRES                                         Missing             21.182108436303945 us                            \n",
      "SEPARATION                           0.805145 arcsec                                                              \n"
     ]
    }
   ],
   "source": [
    "# Let's compare the pre-fit and post-fit par files.\n",
    "print(model.compare(ftr.model))"
   ]
  },
  {
   "cell_type": "code",
   "execution_count": 69,
   "id": "3467f8cf-5e25-4b06-8210-86ce06760f42",
   "metadata": {},
   "outputs": [],
   "source": [
    "# Now that we have a good fit, we should save the post-fit par file.\n",
    "ftr.model.write_parfile(\"NGC6440E.fit.par\")"
   ]
  },
  {
   "cell_type": "markdown",
   "id": "07a71465-bdcf-420d-bfa5-e759f79d88b8",
   "metadata": {},
   "source": [
    "## Manipulating TOAs"
   ]
  },
  {
   "cell_type": "code",
   "execution_count": 28,
   "id": "2d317dbc-2e93-46bb-a154-32716197b40c",
   "metadata": {},
   "outputs": [
    {
     "name": "stdout",
     "output_type": "stream",
     "text": [
      "1 TOAs starting at MJD 53478.28587141954\n"
     ]
    }
   ],
   "source": [
    "# We can get a single TOA using the [] operator.\n",
    "print(toas[0])"
   ]
  },
  {
   "cell_type": "code",
   "execution_count": 29,
   "id": "8f4a8ea4-4850-4446-ad9d-f44fcf36da1f",
   "metadata": {},
   "outputs": [
    {
     "name": "stdout",
     "output_type": "stream",
     "text": [
      "10 TOAs starting at MJD 53478.28587141954\n"
     ]
    }
   ],
   "source": [
    "# Or a range of TOAs \n",
    "print(toas[0:10])"
   ]
  },
  {
   "cell_type": "code",
   "execution_count": 30,
   "id": "dab532ea-8266-4803-a32f-f43e3c5142c7",
   "metadata": {},
   "outputs": [
    {
     "data": {
      "text/plain": [
       "59 TOAs starting at MJD 53478.28587141954"
      ]
     },
     "execution_count": 30,
     "metadata": {},
     "output_type": "execute_result"
    }
   ],
   "source": [
    "from astropy import units as u\n",
    "\n",
    "# Or TOAs according to some criterion\n",
    "selection = toas.get_errors() < 50 * u.us\n",
    "toas[selection]"
   ]
  },
  {
   "cell_type": "code",
   "execution_count": 31,
   "id": "3d86d94e-452c-4b4c-83cb-d68d2f1837dc",
   "metadata": {},
   "outputs": [
    {
     "data": {
      "text/html": [
       "&lt;Column name=&apos;obs&apos; dtype=&apos;str3&apos; length=62&gt;\n",
       "<table>\n",
       "<tr><td>gbt</td></tr>\n",
       "<tr><td>gbt</td></tr>\n",
       "<tr><td>gbt</td></tr>\n",
       "<tr><td>gbt</td></tr>\n",
       "<tr><td>gbt</td></tr>\n",
       "<tr><td>gbt</td></tr>\n",
       "<tr><td>gbt</td></tr>\n",
       "<tr><td>gbt</td></tr>\n",
       "<tr><td>gbt</td></tr>\n",
       "<tr><td>gbt</td></tr>\n",
       "<tr><td>gbt</td></tr>\n",
       "<tr><td>gbt</td></tr>\n",
       "<tr><td>...</td></tr>\n",
       "<tr><td>gbt</td></tr>\n",
       "<tr><td>gbt</td></tr>\n",
       "<tr><td>gbt</td></tr>\n",
       "<tr><td>gbt</td></tr>\n",
       "<tr><td>gbt</td></tr>\n",
       "<tr><td>gbt</td></tr>\n",
       "<tr><td>gbt</td></tr>\n",
       "<tr><td>gbt</td></tr>\n",
       "<tr><td>gbt</td></tr>\n",
       "<tr><td>gbt</td></tr>\n",
       "<tr><td>gbt</td></tr>\n",
       "<tr><td>gbt</td></tr>\n",
       "</table>"
      ],
      "text/plain": [
       "<Column name='obs' dtype='str3' length=62>\n",
       "gbt\n",
       "gbt\n",
       "gbt\n",
       "gbt\n",
       "gbt\n",
       "gbt\n",
       "gbt\n",
       "gbt\n",
       "gbt\n",
       "gbt\n",
       "gbt\n",
       "gbt\n",
       "...\n",
       "gbt\n",
       "gbt\n",
       "gbt\n",
       "gbt\n",
       "gbt\n",
       "gbt\n",
       "gbt\n",
       "gbt\n",
       "gbt\n",
       "gbt\n",
       "gbt\n",
       "gbt"
      ]
     },
     "execution_count": 31,
     "metadata": {},
     "output_type": "execute_result"
    }
   ],
   "source": [
    "# We can also get the TOA attributes using the [] syntax.\n",
    "toas[\"obs\"]"
   ]
  },
  {
   "cell_type": "code",
   "execution_count": 74,
   "id": "a39d806e-e8e8-44f2-ab40-4c6cc59f684e",
   "metadata": {},
   "outputs": [
    {
     "name": "stdout",
     "output_type": "stream",
     "text": [
      "20 TOAs starting at MJD 53478.28587141954\n"
     ]
    }
   ],
   "source": [
    "# We can concatenate two TOAs objects using the + operator.\n",
    "toas1 = toas[:10]\n",
    "toas2 = toas[10:20]\n",
    "toas3 = toas1 + toas2\n",
    "print(toas3)"
   ]
  },
  {
   "cell_type": "code",
   "execution_count": 75,
   "id": "1fb3a593-0ed1-45dd-9e8d-6fa341d5e18e",
   "metadata": {},
   "outputs": [
    {
     "name": "stdout",
     "output_type": "stream",
     "text": [
      "Help on method adjust_TOAs in module pint.toa:\n",
      "\n",
      "adjust_TOAs(delta: Union[astropy.time.core.TimeDelta, astropy.units.quantity.Quantity]) -> None method of pint.toa.TOAs instance\n",
      "    Apply a time delta to TOAs.\n",
      "    \n",
      "    Adjusts the time (MJD) of the TOAs by applying delta, which should\n",
      "    be a scalar or have the same shape as ``self.table['mjd']``.  This function does not change\n",
      "    the pulse numbers column, if present, but does recompute ``mjd_float``,\n",
      "    the TDB times, and the observatory positions and velocities.\n",
      "    \n",
      "    Parameters\n",
      "    ----------\n",
      "    delta : astropy.time.TimeDelta or astropy.units.Quantity\n",
      "        The time difference to add to the MJD of each TOA\n",
      "\n"
     ]
    }
   ],
   "source": [
    "# We can shift the TOA values using the toas.adjust_TOAs function.\n",
    "# Use this only if you know what you're doing.\n",
    "help(toas.adjust_TOAs)"
   ]
  },
  {
   "cell_type": "code",
   "execution_count": 76,
   "id": "ac0d61d8-6b01-41a9-be48-f4238f513830",
   "metadata": {},
   "outputs": [
    {
     "name": "stdout",
     "output_type": "stream",
     "text": [
      " pulse_number\n",
      "             \n",
      "-------------\n",
      "-1716398183.0\n",
      "-1689882944.0\n",
      "-1656988022.0\n",
      " -645521434.0\n",
      " -645521434.0\n",
      " -645521434.0\n",
      " -645521434.0\n",
      " -645521434.0\n",
      " -635826494.0\n",
      " -634478342.0\n",
      "          ...\n",
      " 2050286728.0\n",
      " 2051645444.0\n",
      " 1584774770.0\n",
      " 1584774770.0\n",
      " 1584774770.0\n",
      " 1584774770.0\n",
      " 1584774770.0\n",
      " 1584774770.0\n",
      " 1584774770.0\n",
      " 1584774770.0\n",
      "Length = 62 rows\n"
     ]
    }
   ],
   "source": [
    "# We can compute the pulse numbers like this:\n",
    "toas.compute_pulse_numbers(ftr.model)\n",
    "print(toas.get_pulse_numbers())"
   ]
  },
  {
   "cell_type": "markdown",
   "id": "3797267f-eff4-4894-bf00-5a60026183e5",
   "metadata": {},
   "source": [
    "## Some interesting derived quantities"
   ]
  },
  {
   "cell_type": "code",
   "execution_count": 77,
   "id": "6646e099-ee83-4407-8ebe-d2ca5e5051ce",
   "metadata": {},
   "outputs": [
    {
     "data": {
      "text/plain": [
       "<matplotlib.collections.PathCollection at 0x737a800cffa0>"
      ]
     },
     "execution_count": 77,
     "metadata": {},
     "output_type": "execute_result"
    },
    {
     "data": {
      "image/png": "[encoded data removed]",
      "text/plain": [
       "<Figure size 640x480 with 1 Axes>"
      ]
     },
     "metadata": {},
     "output_type": "display_data"
    }
   ],
   "source": [
    "# Solar elongation\n",
    "plt.scatter(toas.get_mjds(), ftr.model.sun_angle(toas))"
   ]
  },
  {
   "cell_type": "code",
   "execution_count": 78,
   "id": "f3ba0ef8-9da7-4355-84a9-7048b80f90f4",
   "metadata": {},
   "outputs": [
    {
     "data": {
      "text/plain": [
       "<matplotlib.collections.PathCollection at 0x737a80041550>"
      ]
     },
     "execution_count": 78,
     "metadata": {},
     "output_type": "execute_result"
    },
    {
     "data": {
      "image/png": "[encoded data removed]",
      "text/plain": [
       "<Figure size 640x480 with 1 Axes>"
      ]
     },
     "metadata": {},
     "output_type": "display_data"
    }
   ],
   "source": [
    "# Barycentered observing frequency\n",
    "# The plotted thing is the Doppler factor.\n",
    "plt.scatter(toas.get_mjds(), ftr.model.barycentric_radio_freq(toas) / toas.get_freqs())"
   ]
  },
  {
   "cell_type": "code",
   "execution_count": 79,
   "id": "dad5e3c7-2cde-4fb4-a2c0-0fec4eba4547",
   "metadata": {},
   "outputs": [
    {
     "data": {
      "text/plain": [
       "<matplotlib.collections.PathCollection at 0x737a7bff0610>"
      ]
     },
     "execution_count": 79,
     "metadata": {},
     "output_type": "execute_result"
    },
    {
     "data": {
      "image/png": "[encoded data removed]",
      "text/plain": [
       "<Figure size 640x480 with 1 Axes>"
      ]
     },
     "metadata": {},
     "output_type": "display_data"
    }
   ],
   "source": [
    "# Total DM\n",
    "# This is a constant because we only have a constant DM in the timing model.\n",
    "plt.scatter(toas.get_mjds(), ftr.model.total_dm(toas))"
   ]
  },
  {
   "cell_type": "code",
   "execution_count": 80,
   "id": "a163954c-56f2-486f-87a3-23e7f877a939",
   "metadata": {},
   "outputs": [
    {
     "data": {
      "text/plain": [
       "<matplotlib.collections.PathCollection at 0x737a7b9d0b50>"
      ]
     },
     "execution_count": 80,
     "metadata": {},
     "output_type": "execute_result"
    },
    {
     "data": {
      "image/png": "[encoded data removed]",
      "text/plain": [
       "<Figure size 640x480 with 1 Axes>"
      ]
     },
     "metadata": {},
     "output_type": "display_data"
    }
   ],
   "source": [
    "# Topocentric pulse frequency\n",
    "# We are seeing the Doppler shifted pulse frequency.\n",
    "plt.scatter(toas.get_mjds(), ftr.model.d_phase_d_toa(toas))"
   ]
  },
  {
   "cell_type": "markdown",
   "id": "57bf8885-66f3-4cfe-a517-d460d2f6ef88",
   "metadata": {},
   "source": [
    "## Fitting for white noise"
   ]
  },
  {
   "cell_type": "markdown",
   "id": "2b896f74-93fb-4ca8-8bc6-3b3379bf31b0",
   "metadata": {},
   "source": [
    "Let's see if we need an EFAC for this dataset."
   ]
  },
  {
   "cell_type": "code",
   "execution_count": 32,
   "id": "961ba89e-bfec-4dcb-bf7a-70908f4b8c39",
   "metadata": {},
   "outputs": [
    {
     "name": "stdout",
     "output_type": "stream",
     "text": [
      "# Created: 2024-06-18T13:57:29.461256\n",
      "# PINT_version: 1.0+304.g1f2c5962\n",
      "# User: Abhimanyu Susobhanan (abhimanyu)\n",
      "# Host: abhimanyu-HP-Envy-x360-2-in-1-Laptop-15-fh0xxx\n",
      "# OS: Linux-6.5.0-35-generic-x86_64-with-glibc2.35\n",
      "# Python: 3.9.19 (main, May  6 2024, 19:43:03) \n",
      "# [GCC 11.2.0]\n",
      "# Format: pint\n",
      "PSR                            1748-2021E\n",
      "EPHEM                               DE421\n",
      "CLK                          TT(BIPM2019)\n",
      "UNITS                                 TDB\n",
      "START              53478.2858714195382639\n",
      "FINISH             54187.5873241702319097\n",
      "TIMEEPH                              FB90\n",
      "T2CMETHOD                        IAU2000B\n",
      "DILATEFREQ                              N\n",
      "DMDATA                                  N\n",
      "NTOA                                   62\n",
      "CHI2                    59.57471175496015\n",
      "CHI2R                  1.0638341384814312\n",
      "TRES                   21.182108436303945\n",
      "RAJ                     17:48:52.80034690 1 0.00013524663578313304\n",
      "DECJ                   -20:21:29.38334051 1 0.03285268549435133023\n",
      "PMRA                                  0.0\n",
      "PMDEC                                 0.0\n",
      "PX                                    0.0\n",
      "POSEPOCH           53750.0000000000000000\n",
      "F0                   61.48547655437249947 1 1.8086084389702723126e-11\n",
      "F1              -1.1813316933329983542e-15 1 1.4418540398803395272e-18\n",
      "PEPOCH             53750.0000000000000000\n",
      "CORRECT_TROPOSPHERE                         N\n",
      "PLANET_SHAPIRO                          N\n",
      "SOLARN0                               0.0\n",
      "SWM                                     0\n",
      "DM                   224.1137963928532875 1 0.034938980510629935594\n",
      "TZRMJD             53801.3860512007484954\n",
      "TZRSITE                                 1\n",
      "TZRFRQ                           1949.609\n",
      "EFAC            tel gbt                       1.0 1 0.0\n",
      "\n"
     ]
    }
   ],
   "source": [
    "from pint.models import get_model\n",
    "from io import StringIO\n",
    "\n",
    "# Add EFAC to the par file. Note that we are setting the fitting flag \"1\".\n",
    "# Note how we are using StringIO to treat a string like a file.\n",
    "par1 = str(ftr.model) + \"EFAC tel gbt 1 1\"\n",
    "model1 = get_model(StringIO(par1))\n",
    "print(model1)"
   ]
  },
  {
   "cell_type": "code",
   "execution_count": 33,
   "id": "880371b8-92f3-4e54-a046-1e6fd569295d",
   "metadata": {},
   "outputs": [],
   "source": [
    "# Now do the fit.\n",
    "ftr1 = Fitter.auto(toas, model1)\n",
    "ftr1.fit_toas(maxiter=5)"
   ]
  },
  {
   "cell_type": "code",
   "execution_count": 34,
   "id": "e22bb362-452f-4d8f-92fb-b4422fc40d18",
   "metadata": {},
   "outputs": [
    {
     "data": {
      "text/plain": [
       "maskParameter(EFAC1 tel gbt 0.9802461176807077 +/- 0.08802870001117231 ())"
      ]
     },
     "execution_count": 34,
     "metadata": {},
     "output_type": "execute_result"
    }
   ],
   "source": [
    "# The EFAC has now been fit!\n",
    "# Note that the uncertainty has been set.\n",
    "# The measurement is consistent with 1, so we probably don't need an EFAC.\n",
    "ftr1.model.EFAC1"
   ]
  },
  {
   "cell_type": "code",
   "execution_count": 35,
   "id": "151e0c25-598e-415a-a760-313bed564afb",
   "metadata": {},
   "outputs": [
    {
     "name": "stdout",
     "output_type": "stream",
     "text": [
      "-1245.1333871904073607 -1243.1820971396863972\n"
     ]
    }
   ],
   "source": [
    "# Let us do a model comparison of EFAC vs no EFAC using the \n",
    "# Akaike information criterion.\n",
    "from pint.utils import akaike_information_criterion\n",
    "\n",
    "aic_noefac = akaike_information_criterion(ftr.model, toas)\n",
    "aic_efac = akaike_information_criterion(ftr1.model, toas)\n",
    "print(aic_noefac, aic_efac)\n",
    "\n",
    "# The AIC without the EFAC is lower, so we don't need an EFAC."
   ]
  },
  {
   "cell_type": "code",
   "execution_count": 36,
   "id": "a21f8f27-c850-45ee-b336-0bc386dd5b65",
   "metadata": {},
   "outputs": [
    {
     "data": {
      "text/plain": [
       "NormaltestResult(statistic=0.6573659863099152, pvalue=0.7198711846728575)"
      ]
     },
     "execution_count": 36,
     "metadata": {},
     "output_type": "execute_result"
    }
   ],
   "source": [
    "from scipy.stats import normaltest\n",
    "\n",
    "# We can also check the \"whitened\" residuals to see if they are Gaussian.\n",
    "wres = ftr.resids.calc_whitened_resids()\n",
    "normaltest(wres.value.astype(float))\n",
    "\n",
    "# Seems like the timing model is good enough."
   ]
  },
  {
   "cell_type": "markdown",
   "id": "2ce7da6c",
   "metadata": {},
   "source": [
    "## Simulating TOAs"
   ]
  },
  {
   "cell_type": "code",
   "execution_count": 108,
   "id": "96bcd92d",
   "metadata": {},
   "outputs": [],
   "source": [
    "from pint.simulation import make_fake_toas_uniform, make_fake_toas_fromtim\n",
    "from astropy import units as u\n",
    "import numpy as np"
   ]
  },
  {
   "cell_type": "code",
   "execution_count": 109,
   "id": "0c6b4ee6",
   "metadata": {},
   "outputs": [],
   "source": [
    "# I just realized that there is a bug in `make_fake_toas_fromtim` :(\n",
    "# that causes it to use the wrong BIPM version. This is a workaround\n",
    "# to make things work.\n",
    "model.CLOCK.value = 'TT(BIPM2023)'"
   ]
  },
  {
   "cell_type": "code",
   "execution_count": 110,
   "id": "b4380b36",
   "metadata": {},
   "outputs": [],
   "source": [
    "# How to make TOAs based on an existing tim file\n",
    "# The `add_noise` option tells the function to add white noise.\n",
    "# If EFACs and EQUADs are there in the model, those are incorporated\n",
    "# into the simulated white noise.\n",
    "tsim1 = make_fake_toas_fromtim(\n",
    "    timfile=examplefile(\"NGC6440E.tim\"),\n",
    "    model=model,\n",
    "    add_noise=True,\n",
    ")"
   ]
  },
  {
   "cell_type": "code",
   "execution_count": 111,
   "id": "cd320c34",
   "metadata": {},
   "outputs": [],
   "source": [
    "# The `add_correlated_noise` option can be used to simulate \n",
    "# correlated noise (ECORR, red noise, DM Noise, etc) if it's \n",
    "# given in the timing model.\n",
    "#\n",
    "# Simulating cross-pulsar correlated signals like the GWB is not\n",
    "# (yet?) supported. "
   ]
  },
  {
   "cell_type": "code",
   "execution_count": 112,
   "id": "a1445ab5",
   "metadata": {},
   "outputs": [
    {
     "data": {
      "text/plain": [
       "Text(0, 0.5, 'Residuals (s)')"
      ]
     },
     "execution_count": 112,
     "metadata": {},
     "output_type": "execute_result"
    },
    {
     "data": {
      "image/png": "[encoded data removed]",
      "text/plain": [
       "<Figure size 640x480 with 1 Axes>"
      ]
     },
     "metadata": {},
     "output_type": "display_data"
    }
   ],
   "source": [
    "res_sim1 = Residuals(tsim1, model)\n",
    "plt.errorbar(tsim1.get_mjds(), res_sim1.calc_time_resids(), res_sim1.get_data_error(), ls=\"\", marker=\"+\")\n",
    "plt.xlabel(\"MJD\")\n",
    "plt.ylabel(\"Residuals (s)\")"
   ]
  },
  {
   "cell_type": "code",
   "execution_count": 115,
   "id": "0ac534aa",
   "metadata": {},
   "outputs": [],
   "source": [
    "# How to make TOAs based on an existing tim file\n",
    "# The `add_noise` option tells the function to add white noise.\n",
    "# If EFACs and EQUADs are there in the model, those are incorporated\n",
    "# into the simulated white noise.\n",
    "#\n",
    "# The `add_correlated_noise` option works here too.\n",
    "#\n",
    "# The `multi_freqs_in_epoch` simulates multiple frequency\n",
    "# observations in an epoch. This is useful for simulating\n",
    "# subbanded TOAs and/or multiple observing bands. \n",
    "tsim2 = make_fake_toas_uniform(\n",
    "    startMJD=55000,\n",
    "    endMJD=56000,\n",
    "    ntoas=200,\n",
    "    model=model,\n",
    "    freq=np.linspace(1200, 1500, 8) * u.MHz,\n",
    "    obs=\"ao\",\n",
    "    error=1*u.us,\n",
    "    add_noise=True,\n",
    "    multi_freqs_in_epoch=True,\n",
    "    flags={\"be\": \"foo\", \"fe\": \"bar\"},\n",
    ")"
   ]
  },
  {
   "cell_type": "code",
   "execution_count": 116,
   "id": "7790d841",
   "metadata": {},
   "outputs": [
    {
     "data": {
      "image/png": "[encoded data removed]",
      "text/plain": [
       "<Figure size 640x480 with 2 Axes>"
      ]
     },
     "metadata": {},
     "output_type": "display_data"
    }
   ],
   "source": [
    "res_sim2 = Residuals(tsim2, model)\n",
    "\n",
    "plt.subplot(211)\n",
    "plt.errorbar(tsim2.get_mjds(), res_sim2.calc_time_resids(), res_sim2.get_data_error(), ls=\"\", marker=\"+\")\n",
    "plt.xlabel(\"MJD\")\n",
    "plt.ylabel(\"Residuals (s)\")\n",
    "\n",
    "plt.subplot(212)\n",
    "plt.errorbar(tsim2.get_freqs(), res_sim2.calc_time_resids(), res_sim2.get_data_error(), ls=\"\", marker=\"+\")\n",
    "plt.xlabel(\"Frequency (MHz)\")\n",
    "plt.ylabel(\"Residuals (s)\")\n",
    "\n",
    "plt.tight_layout()"
   ]
  },
  {
   "cell_type": "code",
   "execution_count": 37,
   "id": "b9dfdbef",
   "metadata": {},
   "outputs": [
    {
     "data": {
      "text/plain": [
       "TimingModel(\n",
       "  AbsPhase(\n",
       "    MJDParameter(   TZRMJD              53801.3860512007484954 (d) frozen=True),\n",
       "    strParameter(   TZRSITE             1                 frozen=True),\n",
       "    floatParameter( TZRFRQ              1949.609          (MHz) frozen=True)),\n",
       "  AstrometryEquatorial(\n",
       "    MJDParameter(   POSEPOCH            53750.0000000000000000 (d) frozen=True),\n",
       "    floatParameter( PX                  0.0               (mas) frozen=True),\n",
       "    AngleParameter( RAJ                 17:48:52.80034690 (hourangle) +/- 0h00m00.00013525s frozen=False),\n",
       "    AngleParameter( DECJ                -20:21:29.38334051 (deg) +/- 0d00m00.03285269s frozen=False),\n",
       "    floatParameter( PMRA                0.0               (mas / yr) frozen=True),\n",
       "    floatParameter( PMDEC               0.0               (mas / yr) frozen=True)),\n",
       "  DispersionDM(\n",
       "    floatParameter( DM                  224.1137963928532875 (pc / cm3) +/- 0.034938980510629936 pc / cm3 frozen=False),\n",
       "    floatParameter( DM1                 UNSET,\n",
       "    MJDParameter(   DMEPOCH             UNSET),\n",
       "  SolarSystemShapiro(\n",
       "    boolParameter(  PLANET_SHAPIRO      N                 frozen=True)),\n",
       "  SolarWindDispersion(\n",
       "    floatParameter( NE_SW               0.0               (1 / cm3) frozen=True),\n",
       "    floatParameter( SWP                 2.0               () frozen=True),\n",
       "    intParameter(   SWM                 0                 frozen=True)),\n",
       "  Spindown(\n",
       "    floatParameter( F0                  61.48547655437249947 (Hz) +/- 1.8086084389702723e-11 Hz frozen=False),\n",
       "    MJDParameter(   PEPOCH              53750.0000000000000000 (d) frozen=True),\n",
       "    floatParameter( F1                  -1.1813316933329983542e-15 (Hz / s) +/- 1.4418540398803395e-18 Hz / s frozen=False)),\n",
       "  TroposphereDelay(\n",
       "    boolParameter(  CORRECT_TROPOSPHERE N                 frozen=True))\n",
       ")"
      ]
     },
     "execution_count": 37,
     "metadata": {},
     "output_type": "execute_result"
    }
   ],
   "source": [
    "toas.write_TOA_file(\"kjhk\")"
   ]
  },
  {
   "cell_type": "code",
   "execution_count": 117,
   "id": "8a73a382",
   "metadata": {},
   "outputs": [],
   "source": [
    "# Combine different simulations of the same pulsar with the + operator.\n",
    "tsim = tsim1 + tsim2"
   ]
  },
  {
   "cell_type": "code",
   "execution_count": 118,
   "id": "02577ed0",
   "metadata": {},
   "outputs": [
    {
     "data": {
      "image/png": "[encoded data removed]",
      "text/plain": [
       "<Figure size 640x480 with 2 Axes>"
      ]
     },
     "metadata": {},
     "output_type": "display_data"
    }
   ],
   "source": [
    "res_sim = Residuals(tsim, model)\n",
    "\n",
    "plt.subplot(211)\n",
    "plt.errorbar(tsim.get_mjds(), res_sim.calc_time_resids(), res_sim.get_data_error(), ls=\"\", marker=\"+\")\n",
    "plt.xlabel(\"MJD\")\n",
    "plt.ylabel(\"Residuals (s)\")\n",
    "\n",
    "plt.subplot(212)\n",
    "plt.errorbar(tsim.get_freqs(), res_sim.calc_time_resids(), res_sim.get_data_error(), ls=\"\", marker=\"+\")\n",
    "plt.xlabel(\"Frequency (MHz)\")\n",
    "plt.ylabel(\"Residuals (s)\")\n",
    "\n",
    "plt.tight_layout()"
   ]
  },
  {
   "cell_type": "code",
   "execution_count": null,
   "id": "fac7ea4c",
   "metadata": {},
   "outputs": [],
   "source": [
    "# We need a JUMP between the two simulations.\n",
    "# Exercise - Fit this JUMP.\n",
    "# Hint - the second simulation has `be` and `fe` flags set."
   ]
  },
  {
   "cell_type": "markdown",
   "id": "6b32e4fb",
   "metadata": {},
   "source": [
    "## Fitting for red noise "
   ]
  },
  {
   "cell_type": "code",
   "execution_count": 141,
   "id": "bac76055",
   "metadata": {},
   "outputs": [],
   "source": [
    "from pint.utils import wavex_setup, plrednoise_from_wavex, find_optimal_nharms\n",
    "from copy import deepcopy"
   ]
  },
  {
   "cell_type": "code",
   "execution_count": 132,
   "id": "59a3bc48",
   "metadata": {},
   "outputs": [],
   "source": [
    "par_rn = str(model) + \"\"\"\n",
    "    TNREDAMP    -13.0\n",
    "    TNREDGAM    3.5\n",
    "    TNREDC      30\n",
    "\"\"\""
   ]
  },
  {
   "cell_type": "code",
   "execution_count": 133,
   "id": "e5946797",
   "metadata": {},
   "outputs": [],
   "source": [
    "model_rn = get_model(StringIO(par_rn))"
   ]
  },
  {
   "cell_type": "code",
   "execution_count": 134,
   "id": "2c36623b",
   "metadata": {},
   "outputs": [
    {
     "name": "stdout",
     "output_type": "stream",
     "text": [
      "# Created: 2024-06-17T14:08:40.097764\n",
      "# PINT_version: 1.0+302.g224e5f13\n",
      "# User: Abhimanyu Susobhanan (abhimanyu)\n",
      "# Host: abhimanyu-HP-Envy-x360-2-in-1-Laptop-15-fh0xxx\n",
      "# OS: Linux-6.5.0-35-generic-x86_64-with-glibc2.35\n",
      "# Python: 3.9.19 (main, May  6 2024, 19:43:03) \n",
      "# [GCC 11.2.0]\n",
      "# Format: pint\n",
      "PSR                            1748-2021E\n",
      "EPHEM                               DE421\n",
      "CLK                          TT(BIPM2023)\n",
      "UNITS                                 TDB\n",
      "TIMEEPH                              FB90\n",
      "T2CMETHOD                        IAU2000B\n",
      "DILATEFREQ                              N\n",
      "DMDATA                                  N\n",
      "NTOA                                    0\n",
      "RAJ                     17:48:52.75000000 1 0.04999999999999998890\n",
      "DECJ                   -20:21:29.00000000 1 0.40000000000000002220\n",
      "PMRA                                  0.0\n",
      "PMDEC                                 0.0\n",
      "PX                                    0.0\n",
      "POSEPOCH           53750.0000000000000000\n",
      "F0                           61.485476554 1 5e-10\n",
      "F1                             -1.181e-15 1 1e-18\n",
      "PEPOCH             53750.0000000000000000\n",
      "CORRECT_TROPOSPHERE                         N\n",
      "PLANET_SHAPIRO                          N\n",
      "SOLARN0                               0.0\n",
      "SWM                                     0\n",
      "DM                                  223.9 1 0.3\n",
      "TNREDAMP                            -13.0\n",
      "TNREDGAM                              3.5\n",
      "TNREDC                               30.0\n",
      "TZRMJD             53801.3860512007484954\n",
      "TZRSITE                                 1\n",
      "TZRFRQ                           1949.609\n",
      "\n"
     ]
    }
   ],
   "source": [
    "print(model_rn)"
   ]
  },
  {
   "cell_type": "code",
   "execution_count": 137,
   "id": "fa9a41e7",
   "metadata": {},
   "outputs": [],
   "source": [
    "tsimrn = make_fake_toas_uniform(\n",
    "    startMJD=55000,\n",
    "    endMJD=56000,\n",
    "    ntoas=200,\n",
    "    model=model_rn,\n",
    "    freq=1400 * u.MHz,\n",
    "    obs=\"ao\",\n",
    "    error=0.5*u.us,\n",
    "    add_noise=True,\n",
    "    add_correlated_noise=True,\n",
    "    include_bipm=True,\n",
    ")"
   ]
  },
  {
   "cell_type": "code",
   "execution_count": 138,
   "id": "d348c7ae",
   "metadata": {},
   "outputs": [
    {
     "data": {
      "text/plain": [
       "Text(0, 0.5, 'Residuals (s)')"
      ]
     },
     "execution_count": 138,
     "metadata": {},
     "output_type": "execute_result"
    },
    {
     "data": {
      "image/png": "[encoded data removed]",
      "text/plain": [
       "<Figure size 640x480 with 1 Axes>"
      ]
     },
     "metadata": {},
     "output_type": "display_data"
    }
   ],
   "source": [
    "res_simrn = Residuals(tsimrn, model_rn)\n",
    "\n",
    "plt.errorbar(tsimrn.get_mjds(), res_simrn.calc_time_resids(), res_simrn.get_data_error(), ls=\"\", marker=\"+\")\n",
    "plt.xlabel(\"MJD\")\n",
    "plt.ylabel(\"Residuals (s)\")"
   ]
  },
  {
   "cell_type": "code",
   "execution_count": 142,
   "id": "b80ceb9c",
   "metadata": {},
   "outputs": [],
   "source": [
    "# Find the optimum number of harmonics from the simulated data\n",
    "Nharm, aics = find_optimal_nharms(model, tsimrn, component=\"WaveX\", nharms_max=30)"
   ]
  },
  {
   "cell_type": "code",
   "execution_count": 144,
   "id": "7fcfd1ee",
   "metadata": {},
   "outputs": [],
   "source": [
    "Nharm, aics = Nharm"
   ]
  },
  {
   "cell_type": "code",
   "execution_count": 149,
   "id": "7010c317",
   "metadata": {},
   "outputs": [
    {
     "data": {
      "image/png": "[encoded data removed]",
      "text/plain": [
       "<Figure size 640x480 with 1 Axes>"
      ]
     },
     "metadata": {},
     "output_type": "display_data"
    }
   ],
   "source": [
    "plt.scatter(np.arange(31), aics+1)\n",
    "plt.yscale(\"log\")"
   ]
  },
  {
   "cell_type": "code",
   "execution_count": 159,
   "id": "52809f1c",
   "metadata": {},
   "outputs": [
    {
     "data": {
      "text/plain": [
       "array([1, 2, 3])"
      ]
     },
     "execution_count": 159,
     "metadata": {},
     "output_type": "execute_result"
    }
   ],
   "source": [
    "modelwx=deepcopy(model)\n",
    "Tspan = tsimrn.get_mjds().max() - tsimrn.get_mjds().min()\n",
    "wavex_setup(modelwx, T_span=Tspan, n_freqs=3)"
   ]
  },
  {
   "cell_type": "code",
   "execution_count": 160,
   "id": "e2dd4bf2",
   "metadata": {},
   "outputs": [],
   "source": [
    "ftrwx = Fitter.auto(tsimrn, modelwx)\n",
    "ftrwx.fit_toas()"
   ]
  },
  {
   "cell_type": "code",
   "execution_count": 161,
   "id": "bed92211",
   "metadata": {},
   "outputs": [],
   "source": [
    "modelpl = plrednoise_from_wavex(ftrwx.model)"
   ]
  },
  {
   "cell_type": "code",
   "execution_count": 162,
   "id": "88a0614c",
   "metadata": {},
   "outputs": [
    {
     "name": "stdout",
     "output_type": "stream",
     "text": [
      "# Created: 2024-06-17T14:29:43.730680\n",
      "# PINT_version: 1.0+302.g224e5f13\n",
      "# User: Abhimanyu Susobhanan (abhimanyu)\n",
      "# Host: abhimanyu-HP-Envy-x360-2-in-1-Laptop-15-fh0xxx\n",
      "# OS: Linux-6.5.0-35-generic-x86_64-with-glibc2.35\n",
      "# Python: 3.9.19 (main, May  6 2024, 19:43:03) \n",
      "# [GCC 11.2.0]\n",
      "# Format: pint\n",
      "PSR                            1748-2021E\n",
      "EPHEM                               DE421\n",
      "CLK                          TT(BIPM2023)\n",
      "UNITS                                 TDB\n",
      "START              54999.9999999198253819\n",
      "FINISH             56000.0000000471472222\n",
      "TIMEEPH                              FB90\n",
      "T2CMETHOD                        IAU2000B\n",
      "DILATEFREQ                              N\n",
      "DMDATA                                  N\n",
      "NTOA                                  200\n",
      "CHI2                    177.0801632190851\n",
      "CHI2R                  0.9419157618036442\n",
      "TRES                0.4704786966737775373\n",
      "RAJ                     17:48:52.74995213 1 0.00010702045869100597\n",
      "DECJ                   -20:21:29.01076605 1 0.00741623014601634420\n",
      "PMRA                                  0.0\n",
      "PMDEC                                 0.0\n",
      "PX                                    0.0\n",
      "POSEPOCH           53750.0000000000000000\n",
      "F0                   61.48547655400814043 1 6.69201600193549684e-11\n",
      "F1              -1.1810392100585256883e-15 1 4.429467744968197708e-19\n",
      "PEPOCH             53750.0000000000000000\n",
      "CORRECT_TROPOSPHERE                         N\n",
      "PLANET_SHAPIRO                          N\n",
      "SOLARN0                               0.0\n",
      "SWM                                     0\n",
      "DM                  229.40167397897333454 1 7.81772705095537912\n",
      "TZRMJD             53801.3860512007484954\n",
      "TZRSITE                                 1\n",
      "TZRFRQ                           1949.609\n",
      "TNREDAMP              -12.671022387987215 0 0.4875723805221904\n",
      "TNREDGAM                3.184869096386449 0 2.780655677880855\n",
      "TNREDC                                3.0\n",
      "\n"
     ]
    }
   ],
   "source": [
    "print(modelpl)"
   ]
  },
  {
   "cell_type": "code",
   "execution_count": 163,
   "id": "f7abc1b1",
   "metadata": {},
   "outputs": [],
   "source": [
    "wres = ftrwx.resids.calc_whitened_resids()"
   ]
  },
  {
   "cell_type": "code",
   "execution_count": 165,
   "id": "48be98d4",
   "metadata": {},
   "outputs": [
    {
     "data": {
      "text/plain": [
       "Text(0, 0.5, 'Whitened Residuals')"
      ]
     },
     "execution_count": 165,
     "metadata": {},
     "output_type": "execute_result"
    },
    {
     "data": {
      "image/png": "[encoded data removed]",
      "text/plain": [
       "<Figure size 640x480 with 1 Axes>"
      ]
     },
     "metadata": {},
     "output_type": "display_data"
    }
   ],
   "source": [
    "plt.scatter(tsimrn.get_mjds(), wres, marker=\"+\")\n",
    "plt.xlabel(\"MJD\")\n",
    "plt.ylabel(\"Whitened Residuals\")"
   ]
  },
  {
   "cell_type": "code",
   "execution_count": 172,
   "id": "967ffed9",
   "metadata": {},
   "outputs": [
    {
     "data": {
      "text/plain": [
       "NormaltestResult(statistic=0.6354759934300905, pvalue=0.7277934477108926)"
      ]
     },
     "execution_count": 172,
     "metadata": {},
     "output_type": "execute_result"
    }
   ],
   "source": [
    "# Are the whitened residuals Gaussian and white?\n",
    "normaltest(wres.value.astype(float))\n",
    "\n",
    "# We can also run the Ljung-Box test to check if the whitened residuals are uncorrelated.\n",
    "# Unfortunately, that's not there in scipy AFAIK."
   ]
  },
  {
   "cell_type": "code",
   "execution_count": null,
   "id": "c2f71aae",
   "metadata": {},
   "outputs": [],
   "source": [
    "# Similarly, we can also do DM noise.\n",
    "# See an example here -- https://nanograv-pint.readthedocs.io/en/latest/examples/rednoise-fit-example.html "
   ]
  },
  {
   "cell_type": "markdown",
   "id": "a0ad7331",
   "metadata": {},
   "source": [
    "## More useful examples "
   ]
  },
  {
   "cell_type": "markdown",
   "id": "5f255ff2",
   "metadata": {},
   "source": [
    "Check out https://nanograv-pint.readthedocs.io/en/latest/tutorials.html"
   ]
  }
 ],
 "metadata": {
  "kernelspec": {
   "display_name": "Python 3 (ipykernel)",
   "language": "python",
   "name": "python3"
  },
  "language_info": {
   "codemirror_mode": {
    "name": "ipython",
    "version": 3
   },
   "file_extension": ".py",
   "mimetype": "text/x-python",
   "name": "python",
   "nbconvert_exporter": "python",
   "pygments_lexer": "ipython3",
   "version": "3.9.19"
  }
 },
 "nbformat": 4,
 "nbformat_minor": 5
}
